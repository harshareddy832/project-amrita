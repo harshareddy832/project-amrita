{
  "nbformat": 4,
  "nbformat_minor": 0,
  "metadata": {
    "colab": {
      "provenance": []
    },
    "kernelspec": {
      "name": "python3",
      "display_name": "Python 3"
    },
    "language_info": {
      "name": "python"
    },
    "accelerator": "TPU",
    "gpuClass": "standard"
  },
  "cells": [
    {
      "cell_type": "code",
      "execution_count": null,
      "metadata": {
        "colab": {
          "base_uri": "https://localhost:8080/"
        },
        "id": "gOo0xDDRz-6J",
        "outputId": "1647e4f6-d564-436e-ec79-e1b9f04e3595"
      },
      "outputs": [
        {
          "output_type": "stream",
          "name": "stdout",
          "text": [
            "Cloning into 'yolov5'...\n",
            "remote: Enumerating objects: 15002, done.\u001b[K\n",
            "remote: Total 15002 (delta 0), reused 0 (delta 0), pack-reused 15002\u001b[K\n",
            "Receiving objects: 100% (15002/15002), 14.08 MiB | 25.02 MiB/s, done.\n",
            "Resolving deltas: 100% (10291/10291), done.\n",
            "/content/yolov5\n",
            "HEAD is now at fbe67e4 Fix `OMP_NUM_THREADS=1` for macOS (#8624)\n"
          ]
        }
      ],
      "source": [
        "!git clone https://github.com/ultralytics/yolov5  # clone repo\n",
        "%cd yolov5\n",
        "!git reset --hard fbe67e465375231474a2ad80a4389efc77ecff99"
      ]
    },
    {
      "cell_type": "code",
      "source": [
        "from google.colab import drive\n",
        "drive.mount('/content/drive')"
      ],
      "metadata": {
        "id": "UIYBgdiS6sEo",
        "colab": {
          "base_uri": "https://localhost:8080/",
          "height": 328
        },
        "outputId": "c5c00913-6729-4ecd-ed22-8d4d7a0bfbb5"
      },
      "execution_count": null,
      "outputs": [
        {
          "output_type": "error",
          "ename": "MessageError",
          "evalue": "ignored",
          "traceback": [
            "\u001b[0;31m---------------------------------------------------------------------------\u001b[0m",
            "\u001b[0;31mMessageError\u001b[0m                              Traceback (most recent call last)",
            "\u001b[0;32m<ipython-input-5-d5df0069828e>\u001b[0m in \u001b[0;36m<module>\u001b[0;34m\u001b[0m\n\u001b[1;32m      1\u001b[0m \u001b[0;32mfrom\u001b[0m \u001b[0mgoogle\u001b[0m\u001b[0;34m.\u001b[0m\u001b[0mcolab\u001b[0m \u001b[0;32mimport\u001b[0m \u001b[0mdrive\u001b[0m\u001b[0;34m\u001b[0m\u001b[0;34m\u001b[0m\u001b[0m\n\u001b[0;32m----> 2\u001b[0;31m \u001b[0mdrive\u001b[0m\u001b[0;34m.\u001b[0m\u001b[0mmount\u001b[0m\u001b[0;34m(\u001b[0m\u001b[0;34m'/content/drive'\u001b[0m\u001b[0;34m)\u001b[0m\u001b[0;34m\u001b[0m\u001b[0;34m\u001b[0m\u001b[0m\n\u001b[0m",
            "\u001b[0;32m/usr/local/lib/python3.8/dist-packages/google/colab/drive.py\u001b[0m in \u001b[0;36mmount\u001b[0;34m(mountpoint, force_remount, timeout_ms, readonly)\u001b[0m\n\u001b[1;32m     99\u001b[0m \u001b[0;32mdef\u001b[0m \u001b[0mmount\u001b[0m\u001b[0;34m(\u001b[0m\u001b[0mmountpoint\u001b[0m\u001b[0;34m,\u001b[0m \u001b[0mforce_remount\u001b[0m\u001b[0;34m=\u001b[0m\u001b[0;32mFalse\u001b[0m\u001b[0;34m,\u001b[0m \u001b[0mtimeout_ms\u001b[0m\u001b[0;34m=\u001b[0m\u001b[0;36m120000\u001b[0m\u001b[0;34m,\u001b[0m \u001b[0mreadonly\u001b[0m\u001b[0;34m=\u001b[0m\u001b[0;32mFalse\u001b[0m\u001b[0;34m)\u001b[0m\u001b[0;34m:\u001b[0m\u001b[0;34m\u001b[0m\u001b[0;34m\u001b[0m\u001b[0m\n\u001b[1;32m    100\u001b[0m   \u001b[0;34m\"\"\"Mount your Google Drive at the specified mountpoint path.\"\"\"\u001b[0m\u001b[0;34m\u001b[0m\u001b[0;34m\u001b[0m\u001b[0m\n\u001b[0;32m--> 101\u001b[0;31m   return _mount(\n\u001b[0m\u001b[1;32m    102\u001b[0m       \u001b[0mmountpoint\u001b[0m\u001b[0;34m,\u001b[0m\u001b[0;34m\u001b[0m\u001b[0;34m\u001b[0m\u001b[0m\n\u001b[1;32m    103\u001b[0m       \u001b[0mforce_remount\u001b[0m\u001b[0;34m=\u001b[0m\u001b[0mforce_remount\u001b[0m\u001b[0;34m,\u001b[0m\u001b[0;34m\u001b[0m\u001b[0;34m\u001b[0m\u001b[0m\n",
            "\u001b[0;32m/usr/local/lib/python3.8/dist-packages/google/colab/drive.py\u001b[0m in \u001b[0;36m_mount\u001b[0;34m(mountpoint, force_remount, timeout_ms, ephemeral, readonly)\u001b[0m\n\u001b[1;32m    122\u001b[0m       'TBE_EPHEM_CREDS_ADDR'] if ephemeral else _os.environ['TBE_CREDS_ADDR']\n\u001b[1;32m    123\u001b[0m   \u001b[0;32mif\u001b[0m \u001b[0mephemeral\u001b[0m\u001b[0;34m:\u001b[0m\u001b[0;34m\u001b[0m\u001b[0;34m\u001b[0m\u001b[0m\n\u001b[0;32m--> 124\u001b[0;31m     _message.blocking_request(\n\u001b[0m\u001b[1;32m    125\u001b[0m         'request_auth', request={'authType': 'dfs_ephemeral'}, timeout_sec=None)\n\u001b[1;32m    126\u001b[0m \u001b[0;34m\u001b[0m\u001b[0m\n",
            "\u001b[0;32m/usr/local/lib/python3.8/dist-packages/google/colab/_message.py\u001b[0m in \u001b[0;36mblocking_request\u001b[0;34m(request_type, request, timeout_sec, parent)\u001b[0m\n\u001b[1;32m    169\u001b[0m   request_id = send_request(\n\u001b[1;32m    170\u001b[0m       request_type, request, parent=parent, expect_reply=True)\n\u001b[0;32m--> 171\u001b[0;31m   \u001b[0;32mreturn\u001b[0m \u001b[0mread_reply_from_input\u001b[0m\u001b[0;34m(\u001b[0m\u001b[0mrequest_id\u001b[0m\u001b[0;34m,\u001b[0m \u001b[0mtimeout_sec\u001b[0m\u001b[0;34m)\u001b[0m\u001b[0;34m\u001b[0m\u001b[0;34m\u001b[0m\u001b[0m\n\u001b[0m",
            "\u001b[0;32m/usr/local/lib/python3.8/dist-packages/google/colab/_message.py\u001b[0m in \u001b[0;36mread_reply_from_input\u001b[0;34m(message_id, timeout_sec)\u001b[0m\n\u001b[1;32m    100\u001b[0m         reply.get('colab_msg_id') == message_id):\n\u001b[1;32m    101\u001b[0m       \u001b[0;32mif\u001b[0m \u001b[0;34m'error'\u001b[0m \u001b[0;32min\u001b[0m \u001b[0mreply\u001b[0m\u001b[0;34m:\u001b[0m\u001b[0;34m\u001b[0m\u001b[0;34m\u001b[0m\u001b[0m\n\u001b[0;32m--> 102\u001b[0;31m         \u001b[0;32mraise\u001b[0m \u001b[0mMessageError\u001b[0m\u001b[0;34m(\u001b[0m\u001b[0mreply\u001b[0m\u001b[0;34m[\u001b[0m\u001b[0;34m'error'\u001b[0m\u001b[0;34m]\u001b[0m\u001b[0;34m)\u001b[0m\u001b[0;34m\u001b[0m\u001b[0;34m\u001b[0m\u001b[0m\n\u001b[0m\u001b[1;32m    103\u001b[0m       \u001b[0;32mreturn\u001b[0m \u001b[0mreply\u001b[0m\u001b[0;34m.\u001b[0m\u001b[0mget\u001b[0m\u001b[0;34m(\u001b[0m\u001b[0;34m'data'\u001b[0m\u001b[0;34m,\u001b[0m \u001b[0;32mNone\u001b[0m\u001b[0;34m)\u001b[0m\u001b[0;34m\u001b[0m\u001b[0;34m\u001b[0m\u001b[0m\n\u001b[1;32m    104\u001b[0m \u001b[0;34m\u001b[0m\u001b[0m\n",
            "\u001b[0;31mMessageError\u001b[0m: Error: credential propagation was unsuccessful"
          ]
        }
      ]
    },
    {
      "cell_type": "code",
      "source": [
        "# install dependencies as necessary\n",
        "!pip install -qr requirements.txt  # install dependencies (ignore errors)\n",
        "import torch\n",
        "\n",
        "from IPython.display import Image, clear_output  # to display images\n",
        "from utils.downloads import attempt_download  # to download models/datasets\n",
        "\n",
        "# clear_output()\n",
        "print('Setup complete. Using torch %s %s' % (torch.__version__, torch.cuda.get_device_properties(0) if torch.cuda.is_available() else 'CPU'))"
      ],
      "metadata": {
        "id": "0We-V-En0Q8G",
        "colab": {
          "base_uri": "https://localhost:8080/"
        },
        "outputId": "d9bc71fd-e0f7-4cc8-e610-31f2162755e5"
      },
      "execution_count": null,
      "outputs": [
        {
          "output_type": "stream",
          "name": "stdout",
          "text": [
            "\u001b[?25l     \u001b[90m━━━━━━━━━━━━━━━━━━━━━━━━━━━━━━━━━━━━━━━━\u001b[0m \u001b[32m0.0/1.6 MB\u001b[0m \u001b[31m?\u001b[0m eta \u001b[36m-:--:--\u001b[0m\r\u001b[2K     \u001b[91m━━━━━━━\u001b[0m\u001b[90m╺\u001b[0m\u001b[90m━━━━━━━━━━━━━━━━━━━━━━━━━━━━━━━━\u001b[0m \u001b[32m0.3/1.6 MB\u001b[0m \u001b[31m9.3 MB/s\u001b[0m eta \u001b[36m0:00:01\u001b[0m\r\u001b[2K     \u001b[91m━━━━━━━━━━━━━━━━━━━━━━━━━━━━━━━━━━━━━━━\u001b[0m\u001b[91m╸\u001b[0m \u001b[32m1.6/1.6 MB\u001b[0m \u001b[31m26.0 MB/s\u001b[0m eta \u001b[36m0:00:01\u001b[0m\r\u001b[2K     \u001b[90m━━━━━━━━━━━━━━━━━━━━━━━━━━━━━━━━━━━━━━━━\u001b[0m \u001b[32m1.6/1.6 MB\u001b[0m \u001b[31m19.7 MB/s\u001b[0m eta \u001b[36m0:00:00\u001b[0m\n",
            "\u001b[?25hSetup complete. Using torch 1.13.1+cu116 CPU\n"
          ]
        }
      ]
    },
    {
      "cell_type": "code",
      "source": [
        "!pip install -q roboflow\n",
        "from roboflow import Roboflow\n",
        "rf = Roboflow(model_format=\"yolov5\", notebook=\"roboflow-yolov5\")\n"
      ],
      "metadata": {
        "colab": {
          "base_uri": "https://localhost:8080/"
        },
        "id": "ol0nREk_0YdH",
        "outputId": "ffb589cd-7d9d-4b8c-cd37-59e6c4ff83dc"
      },
      "execution_count": null,
      "outputs": [
        {
          "output_type": "stream",
          "name": "stdout",
          "text": [
            "\u001b[?25l     \u001b[90m━━━━━━━━━━━━━━━━━━━━━━━━━━━━━━━━━━━━━━━━\u001b[0m \u001b[32m0.0/49.0 KB\u001b[0m \u001b[31m?\u001b[0m eta \u001b[36m-:--:--\u001b[0m\r\u001b[2K     \u001b[90m━━━━━━━━━━━━━━━━━━━━━━━━━━━━━━━━━━━━━━━━\u001b[0m \u001b[32m49.0/49.0 KB\u001b[0m \u001b[31m2.7 MB/s\u001b[0m eta \u001b[36m0:00:00\u001b[0m\n",
            "\u001b[2K     \u001b[90m━━━━━━━━━━━━━━━━━━━━━━━━━━━━━━━━━━━━━━━━\u001b[0m \u001b[32m67.8/67.8 KB\u001b[0m \u001b[31m6.9 MB/s\u001b[0m eta \u001b[36m0:00:00\u001b[0m\n",
            "\u001b[?25h  Preparing metadata (setup.py) ... \u001b[?25l\u001b[?25hdone\n",
            "\u001b[2K     \u001b[90m━━━━━━━━━━━━━━━━━━━━━━━━━━━━━━━━━━━━━━━━\u001b[0m \u001b[32m54.5/54.5 KB\u001b[0m \u001b[31m6.3 MB/s\u001b[0m eta \u001b[36m0:00:00\u001b[0m\n",
            "\u001b[2K     \u001b[90m━━━━━━━━━━━━━━━━━━━━━━━━━━━━━━━━━━━━━━\u001b[0m \u001b[32m140.6/140.6 KB\u001b[0m \u001b[31m15.1 MB/s\u001b[0m eta \u001b[36m0:00:00\u001b[0m\n",
            "\u001b[?25h  Building wheel for wget (setup.py) ... \u001b[?25l\u001b[?25hdone\n",
            "upload and label your dataset, and get an API KEY here: https://app.roboflow.com/?model=yolov5&ref=roboflow-yolov5\n"
          ]
        }
      ]
    },
    {
      "cell_type": "code",
      "source": [
        "%cd /content/yolov5\n",
        "\n",
        "from roboflow import Roboflow\n",
        "rf = Roboflow(api_key=\"SFMDVyq6xIzb0RCaz8KQ\")\n",
        "project = rf.workspace(\"final-project-duaep\").project(\"yoda-dmthx\")\n",
        "dataset = project.version(1).download(\"yolov5\")"
      ],
      "metadata": {
        "colab": {
          "base_uri": "https://localhost:8080/"
        },
        "id": "Wq4y2k2E08KD",
        "outputId": "23b51078-a862-423d-8b4e-fcd16b909f7d"
      },
      "execution_count": null,
      "outputs": [
        {
          "output_type": "stream",
          "name": "stdout",
          "text": [
            "/content/yolov5\n",
            "loading Roboflow workspace...\n",
            "loading Roboflow project...\n",
            "Downloading Dataset Version Zip in Yoda-1 to yolov5pytorch: 63% [579665920 / 908903122] bytes"
          ]
        }
      ]
    },
    {
      "cell_type": "code",
      "source": [
        "%cat {dataset.location}/data.yaml"
      ],
      "metadata": {
        "colab": {
          "base_uri": "https://localhost:8080/"
        },
        "id": "seL3fp9_2-Yg",
        "outputId": "cd4335ac-a9c9-4097-e74e-d8be9622c570"
      },
      "execution_count": null,
      "outputs": [
        {
          "output_type": "stream",
          "name": "stdout",
          "text": [
            "names:\n",
            "- '0'\n",
            "- '1'\n",
            "- '2'\n",
            "- '3'\n",
            "nc: 4\n",
            "train: Yoda-1/train/images\n",
            "val: Yoda-1/valid/images\n"
          ]
        }
      ]
    },
    {
      "cell_type": "code",
      "source": [
        "import yaml\n",
        "with open(dataset.location + \"/data.yaml\", 'r') as stream:\n",
        "    num_classes = str(yaml.safe_load(stream)['nc'])"
      ],
      "metadata": {
        "id": "wekHuhNb6_o9"
      },
      "execution_count": null,
      "outputs": []
    },
    {
      "cell_type": "code",
      "source": [
        "%cat /content/yolov5/models/yolov5s.yaml"
      ],
      "metadata": {
        "colab": {
          "base_uri": "https://localhost:8080/"
        },
        "id": "mA4AEvNc7I0k",
        "outputId": "619c5a9b-6e3c-43f9-f9c8-d33532034f6e"
      },
      "execution_count": null,
      "outputs": [
        {
          "output_type": "stream",
          "name": "stdout",
          "text": [
            "# YOLOv5 🚀 by Ultralytics, GPL-3.0 license\n",
            "\n",
            "# Parameters\n",
            "nc: 80  # number of classes\n",
            "depth_multiple: 0.33  # model depth multiple\n",
            "width_multiple: 0.50  # layer channel multiple\n",
            "anchors:\n",
            "  - [10,13, 16,30, 33,23]  # P3/8\n",
            "  - [30,61, 62,45, 59,119]  # P4/16\n",
            "  - [116,90, 156,198, 373,326]  # P5/32\n",
            "\n",
            "# YOLOv5 v6.0 backbone\n",
            "backbone:\n",
            "  # [from, number, module, args]\n",
            "  [[-1, 1, Conv, [64, 6, 2, 2]],  # 0-P1/2\n",
            "   [-1, 1, Conv, [128, 3, 2]],  # 1-P2/4\n",
            "   [-1, 3, C3, [128]],\n",
            "   [-1, 1, Conv, [256, 3, 2]],  # 3-P3/8\n",
            "   [-1, 6, C3, [256]],\n",
            "   [-1, 1, Conv, [512, 3, 2]],  # 5-P4/16\n",
            "   [-1, 9, C3, [512]],\n",
            "   [-1, 1, Conv, [1024, 3, 2]],  # 7-P5/32\n",
            "   [-1, 3, C3, [1024]],\n",
            "   [-1, 1, SPPF, [1024, 5]],  # 9\n",
            "  ]\n",
            "\n",
            "# YOLOv5 v6.0 head\n",
            "head:\n",
            "  [[-1, 1, Conv, [512, 1, 1]],\n",
            "   [-1, 1, nn.Upsample, [None, 2, 'nearest']],\n",
            "   [[-1, 6], 1, Concat, [1]],  # cat backbone P4\n",
            "   [-1, 3, C3, [512, False]],  # 13\n",
            "\n",
            "   [-1, 1, Conv, [256, 1, 1]],\n",
            "   [-1, 1, nn.Upsample, [None, 2, 'nearest']],\n",
            "   [[-1, 4], 1, Concat, [1]],  # cat backbone P3\n",
            "   [-1, 3, C3, [256, False]],  # 17 (P3/8-small)\n",
            "\n",
            "   [-1, 1, Conv, [256, 3, 2]],\n",
            "   [[-1, 14], 1, Concat, [1]],  # cat head P4\n",
            "   [-1, 3, C3, [512, False]],  # 20 (P4/16-medium)\n",
            "\n",
            "   [-1, 1, Conv, [512, 3, 2]],\n",
            "   [[-1, 10], 1, Concat, [1]],  # cat head P5\n",
            "   [-1, 3, C3, [1024, False]],  # 23 (P5/32-large)\n",
            "\n",
            "   [[17, 20, 23], 1, Detect, [nc, anchors]],  # Detect(P3, P4, P5)\n",
            "  ]\n"
          ]
        }
      ]
    },
    {
      "cell_type": "code",
      "source": [
        "from IPython.core.magic import register_line_cell_magic\n",
        "\n",
        "@register_line_cell_magic\n",
        "def writetemplate(line, cell):\n",
        "    with open(line, 'w') as f:\n",
        "        f.write(cell.format(**globals()))"
      ],
      "metadata": {
        "id": "ozg2JY4p7Pc5"
      },
      "execution_count": null,
      "outputs": []
    },
    {
      "cell_type": "code",
      "source": [
        "%%writetemplate /content/yolov5/models/custom_yolov5s.yaml\n",
        "\n",
        "# parameters\n",
        "nc: {num_classes}  # number of classes\n",
        "depth_multiple: 0.33  # model depth multiple\n",
        "width_multiple: 0.50  # layer channel multiple\n",
        "\n",
        "# anchors\n",
        "anchors:\n",
        "  - [10,13, 16,30, 33,23]  # P3/8\n",
        "  - [30,61, 62,45, 59,119]  # P4/16\n",
        "  - [116,90, 156,198, 373,326]  # P5/32\n",
        "\n",
        "# YOLOv5 backbone\n",
        "backbone:\n",
        "  # [from, number, module, args]\n",
        "  [[-1, 1, Focus, [64, 3]],  # 0-P1/2\n",
        "   [-1, 1, Conv, [128, 3, 2]],  # 1-P2/4\n",
        "   [-1, 3, BottleneckCSP, [128]],\n",
        "   [-1, 1, Conv, [256, 3, 2]],  # 3-P3/8\n",
        "   [-1, 9, BottleneckCSP, [256]],\n",
        "   [-1, 1, Conv, [512, 3, 2]],  # 5-P4/16\n",
        "   [-1, 9, BottleneckCSP, [512]],\n",
        "   [-1, 1, Conv, [1024, 3, 2]],  # 7-P5/32\n",
        "   [-1, 1, SPP, [1024, [5, 9, 13]]],\n",
        "   [-1, 3, BottleneckCSP, [1024, False]],  # 9\n",
        "  ]\n",
        "\n",
        "# YOLOv5 head\n",
        "head:\n",
        "  [[-1, 1, Conv, [512, 1, 1]],\n",
        "   [-1, 1, nn.Upsample, [None, 2, 'nearest']],\n",
        "   [[-1, 6], 1, Concat, [1]],  # cat backbone P4\n",
        "   [-1, 3, BottleneckCSP, [512, False]],  # 13\n",
        "\n",
        "   [-1, 1, Conv, [256, 1, 1]],\n",
        "   [-1, 1, nn.Upsample, [None, 2, 'nearest']],\n",
        "   [[-1, 4], 1, Concat, [1]],  # cat backbone P3\n",
        "   [-1, 3, BottleneckCSP, [256, False]],  # 17 (P3/8-small)\n",
        "\n",
        "   [-1, 1, Conv, [256, 3, 2]],\n",
        "   [[-1, 14], 1, Concat, [1]],  # cat head P4\n",
        "   [-1, 3, BottleneckCSP, [512, False]],  # 20 (P4/16-medium)\n",
        "\n",
        "   [-1, 1, Conv, [512, 3, 2]],\n",
        "   [[-1, 10], 1, Concat, [1]],  # cat head P5\n",
        "   [-1, 3, BottleneckCSP, [1024, False]],  # 23 (P5/32-large)\n",
        "\n",
        "   [[17, 20, 23], 1, Detect, [nc, anchors]],  # Detect(P3, P4, P5)\n",
        "  ]"
      ],
      "metadata": {
        "id": "7HywPbjc7Zof"
      },
      "execution_count": null,
      "outputs": []
    },
    {
      "cell_type": "code",
      "source": [
        "%%time\n",
        "%cd /content/yolov5/\n",
        "!python train.py --batch 20 --epochs 100 --data {dataset.location}/data.yaml --cfg ./models/custom_yolov5s.yaml --weights '' --name yolov5s_results  --cache"
      ],
      "metadata": {
        "colab": {
          "base_uri": "https://localhost:8080/"
        },
        "id": "SH-rgPrk7mVL",
        "outputId": "a34b12fd-d206-4462-c8dc-997a859e95fc"
      },
      "execution_count": null,
      "outputs": [
        {
          "output_type": "stream",
          "name": "stdout",
          "text": [
            "/content/yolov5\n",
            "\u001b[34m\u001b[1mtrain: \u001b[0mweights=, cfg=./models/custom_yolov5s.yaml, data=/content/yolov5/Yoda-1/data.yaml, hyp=data/hyps/hyp.scratch-low.yaml, epochs=50, batch_size=20, imgsz=640, rect=False, resume=False, nosave=False, noval=False, noautoanchor=False, noplots=False, evolve=None, bucket=, cache=ram, image_weights=False, device=, multi_scale=False, single_cls=False, optimizer=SGD, sync_bn=False, workers=8, project=runs/train, name=yolov5s_results, exist_ok=False, quad=False, cos_lr=False, label_smoothing=0.0, patience=100, freeze=[0], save_period=-1, seed=0, local_rank=-1, entity=None, upload_dataset=False, bbox_interval=-1, artifact_alias=latest\n",
            "\u001b[34m\u001b[1mgithub: \u001b[0m⚠️ YOLOv5 is out of date by 322 commits. Use `git pull` or `git clone https://github.com/ultralytics/yolov5` to update.\n",
            "YOLOv5 🚀 v6.1-306-gfbe67e4 Python-3.7.15 torch-1.12.1+cu113 CPU\n",
            "\n",
            "\u001b[34m\u001b[1mhyperparameters: \u001b[0mlr0=0.01, lrf=0.01, momentum=0.937, weight_decay=0.0005, warmup_epochs=3.0, warmup_momentum=0.8, warmup_bias_lr=0.1, box=0.05, cls=0.5, cls_pw=1.0, obj=1.0, obj_pw=1.0, iou_t=0.2, anchor_t=4.0, fl_gamma=0.0, hsv_h=0.015, hsv_s=0.7, hsv_v=0.4, degrees=0.0, translate=0.1, scale=0.5, shear=0.0, perspective=0.0, flipud=0.0, fliplr=0.5, mosaic=1.0, mixup=0.0, copy_paste=0.0\n",
            "\u001b[34m\u001b[1mWeights & Biases: \u001b[0mrun 'pip install wandb' to automatically track and visualize YOLOv5 🚀 runs (RECOMMENDED)\n",
            "\u001b[34m\u001b[1mTensorBoard: \u001b[0mStart with 'tensorboard --logdir runs/train', view at http://localhost:6006/\n",
            "Downloading https://ultralytics.com/assets/Arial.ttf to /root/.config/Ultralytics/Arial.ttf...\n",
            "100% 755k/755k [00:00<00:00, 18.0MB/s]\n",
            "\n",
            "                 from  n    params  module                                  arguments                     \n",
            "  0                -1  1      3520  models.common.Focus                     [3, 32, 3]                    \n",
            "  1                -1  1     18560  models.common.Conv                      [32, 64, 3, 2]                \n",
            "  2                -1  1     19904  models.common.BottleneckCSP             [64, 64, 1]                   \n",
            "  3                -1  1     73984  models.common.Conv                      [64, 128, 3, 2]               \n",
            "  4                -1  3    161152  models.common.BottleneckCSP             [128, 128, 3]                 \n",
            "  5                -1  1    295424  models.common.Conv                      [128, 256, 3, 2]              \n",
            "  6                -1  3    641792  models.common.BottleneckCSP             [256, 256, 3]                 \n",
            "  7                -1  1   1180672  models.common.Conv                      [256, 512, 3, 2]              \n",
            "  8                -1  1    656896  models.common.SPP                       [512, 512, [5, 9, 13]]        \n",
            "  9                -1  1   1248768  models.common.BottleneckCSP             [512, 512, 1, False]          \n",
            " 10                -1  1    131584  models.common.Conv                      [512, 256, 1, 1]              \n",
            " 11                -1  1         0  torch.nn.modules.upsampling.Upsample    [None, 2, 'nearest']          \n",
            " 12           [-1, 6]  1         0  models.common.Concat                    [1]                           \n",
            " 13                -1  1    378624  models.common.BottleneckCSP             [512, 256, 1, False]          \n",
            " 14                -1  1     33024  models.common.Conv                      [256, 128, 1, 1]              \n",
            " 15                -1  1         0  torch.nn.modules.upsampling.Upsample    [None, 2, 'nearest']          \n",
            " 16           [-1, 4]  1         0  models.common.Concat                    [1]                           \n",
            " 17                -1  1     95104  models.common.BottleneckCSP             [256, 128, 1, False]          \n",
            " 18                -1  1    147712  models.common.Conv                      [128, 128, 3, 2]              \n",
            " 19          [-1, 14]  1         0  models.common.Concat                    [1]                           \n",
            " 20                -1  1    313088  models.common.BottleneckCSP             [256, 256, 1, False]          \n",
            " 21                -1  1    590336  models.common.Conv                      [256, 256, 3, 2]              \n",
            " 22          [-1, 10]  1         0  models.common.Concat                    [1]                           \n",
            " 23                -1  1   1248768  models.common.BottleneckCSP             [512, 512, 1, False]          \n",
            " 24      [17, 20, 23]  1     24273  models.yolo.Detect                      [4, [[10, 13, 16, 30, 33, 23], [30, 61, 62, 45, 59, 119], [116, 90, 156, 198, 373, 326]], [128, 256, 512]]\n",
            "custom_YOLOv5s summary: 283 layers, 7263185 parameters, 7263185 gradients, 16.9 GFLOPs\n",
            "\n",
            "Scaled weight_decay = 0.00046875\n",
            "\u001b[34m\u001b[1moptimizer:\u001b[0m SGD with parameter groups 59 weight (no decay), 70 weight, 62 bias\n",
            "\u001b[34m\u001b[1malbumentations: \u001b[0mBlur(always_apply=False, p=0.01, blur_limit=(3, 7)), MedianBlur(always_apply=False, p=0.01, blur_limit=(3, 7)), ToGray(always_apply=False, p=0.01), CLAHE(always_apply=False, p=0.01, clip_limit=(1, 4.0), tile_grid_size=(8, 8))\n",
            "\u001b[34m\u001b[1mtrain: \u001b[0mScanning '/content/yolov5/Yoda-1/train/labels' images and labels...370 found, 0 missing, 0 empty, 0 corrupt: 100% 370/370 [00:00<00:00, 1471.96it/s]\n",
            "\u001b[34m\u001b[1mtrain: \u001b[0mNew cache created: /content/yolov5/Yoda-1/train/labels.cache\n",
            "\u001b[34m\u001b[1mtrain: \u001b[0mCaching images (0.4GB ram): 100% 370/370 [00:34<00:00, 10.84it/s]\n",
            "\u001b[34m\u001b[1mval: \u001b[0mScanning '/content/yolov5/Yoda-1/valid/labels' images and labels...124 found, 0 missing, 0 empty, 0 corrupt: 100% 124/124 [00:00<00:00, 613.14it/s]\n",
            "\u001b[34m\u001b[1mval: \u001b[0mNew cache created: /content/yolov5/Yoda-1/valid/labels.cache\n",
            "\u001b[34m\u001b[1mval: \u001b[0mCaching images (0.1GB ram): 100% 124/124 [00:19<00:00,  6.41it/s]\n",
            "Plotting labels to runs/train/yolov5s_results/labels.jpg... \n",
            "\n",
            "\u001b[34m\u001b[1mAutoAnchor: \u001b[0m4.53 anchors/target, 1.000 Best Possible Recall (BPR). Current anchors are a good fit to dataset ✅\n",
            "Image sizes 640 train, 640 val\n",
            "Using 2 dataloader workers\n",
            "Logging results to \u001b[1mruns/train/yolov5s_results\u001b[0m\n",
            "Starting training for 50 epochs...\n",
            "\n",
            "     Epoch   gpu_mem       box       obj       cls    labels  img_size\n",
            "      0/49        0G    0.1014   0.04586   0.04463        63       640: 100% 19/19 [10:45<00:00, 33.99s/it]\n",
            "               Class     Images     Labels          P          R     mAP@.5 mAP@.5:.95: 100% 4/4 [01:00<00:00, 15.08s/it]\n",
            "                 all        124        318   0.000643      0.128   0.000518   0.000117\n",
            "\n",
            "     Epoch   gpu_mem       box       obj       cls    labels  img_size\n",
            "      1/49        0G   0.09195    0.0478   0.04321        45       640: 100% 19/19 [10:22<00:00, 32.78s/it]\n",
            "               Class     Images     Labels          P          R     mAP@.5 mAP@.5:.95: 100% 4/4 [01:00<00:00, 15.10s/it]\n",
            "                 all        124        318   0.000738      0.129   0.000614   0.000162\n",
            "\n",
            "     Epoch   gpu_mem       box       obj       cls    labels  img_size\n",
            "      2/49        0G   0.08907   0.04831   0.04144        44       640: 100% 19/19 [10:10<00:00, 32.13s/it]\n",
            "               Class     Images     Labels          P          R     mAP@.5 mAP@.5:.95: 100% 4/4 [01:02<00:00, 15.57s/it]\n",
            "                 all        124        318   0.000477     0.0949   0.000621   0.000125\n",
            "\n",
            "     Epoch   gpu_mem       box       obj       cls    labels  img_size\n",
            "      3/49        0G   0.08564   0.04826   0.04025        46       640: 100% 19/19 [10:13<00:00, 32.31s/it]\n",
            "               Class     Images     Labels          P          R     mAP@.5 mAP@.5:.95: 100% 4/4 [01:01<00:00, 15.36s/it]\n",
            "                 all        124        318   0.000477     0.0949   0.000536   0.000123\n",
            "\n",
            "     Epoch   gpu_mem       box       obj       cls    labels  img_size\n",
            "      4/49        0G   0.08369   0.04886   0.03923        45       640: 100% 19/19 [10:09<00:00, 32.07s/it]\n",
            "               Class     Images     Labels          P          R     mAP@.5 mAP@.5:.95: 100% 4/4 [01:01<00:00, 15.37s/it]\n",
            "                 all        124        318   0.000759      0.151   0.000816   0.000216\n",
            "\n",
            "     Epoch   gpu_mem       box       obj       cls    labels  img_size\n",
            "      5/49        0G   0.08351   0.04789   0.03758        40       640: 100% 19/19 [10:14<00:00, 32.36s/it]\n",
            "               Class     Images     Labels          P          R     mAP@.5 mAP@.5:.95: 100% 4/4 [01:00<00:00, 15.22s/it]\n",
            "                 all        124        318     0.0365      0.161     0.0217    0.00273\n",
            "\n",
            "     Epoch   gpu_mem       box       obj       cls    labels  img_size\n",
            "      6/49        0G    0.0837   0.04388   0.03748        38       640: 100% 19/19 [10:15<00:00, 32.42s/it]\n",
            "               Class     Images     Labels          P          R     mAP@.5 mAP@.5:.95:  50% 2/4 [00:36<00:36, 18.03s/it]WARNING: NMS time limit 1.500s exceeded\n",
            "               Class     Images     Labels          P          R     mAP@.5 mAP@.5:.95: 100% 4/4 [01:01<00:00, 15.49s/it]\n",
            "                 all        124        318      0.763    0.00714     0.0263     0.0106\n",
            "\n",
            "     Epoch   gpu_mem       box       obj       cls    labels  img_size\n",
            "      7/49        0G   0.08289   0.04629   0.03579        39       640: 100% 19/19 [10:17<00:00, 32.51s/it]\n",
            "               Class     Images     Labels          P          R     mAP@.5 mAP@.5:.95:  50% 2/4 [00:39<00:39, 19.61s/it]WARNING: NMS time limit 1.500s exceeded\n",
            "               Class     Images     Labels          P          R     mAP@.5 mAP@.5:.95: 100% 4/4 [01:05<00:00, 16.47s/it]\n",
            "                 all        124        318      0.795     0.0571     0.0319    0.00945\n",
            "\n",
            "     Epoch   gpu_mem       box       obj       cls    labels  img_size\n",
            "      8/49        0G    0.0804    0.0468   0.03286        32       640: 100% 19/19 [10:13<00:00, 32.29s/it]\n",
            "               Class     Images     Labels          P          R     mAP@.5 mAP@.5:.95:  50% 2/4 [00:35<00:35, 17.91s/it]WARNING: NMS time limit 1.500s exceeded\n",
            "               Class     Images     Labels          P          R     mAP@.5 mAP@.5:.95: 100% 4/4 [01:01<00:00, 15.34s/it]\n",
            "                 all        124        318       0.76    0.00714    0.00714    0.00194\n",
            "\n",
            "     Epoch   gpu_mem       box       obj       cls    labels  img_size\n",
            "      9/49        0G   0.07909   0.04682   0.03332        48       640: 100% 19/19 [10:06<00:00, 31.91s/it]\n",
            "               Class     Images     Labels          P          R     mAP@.5 mAP@.5:.95:  50% 2/4 [00:35<00:35, 17.74s/it]WARNING: NMS time limit 1.500s exceeded\n",
            "               Class     Images     Labels          P          R     mAP@.5 mAP@.5:.95: 100% 4/4 [01:00<00:00, 15.24s/it]\n",
            "                 all        124        318      0.287     0.0615     0.0339    0.00932\n",
            "\n",
            "     Epoch   gpu_mem       box       obj       cls    labels  img_size\n",
            "     10/49        0G   0.07797   0.04555   0.03256        44       640: 100% 19/19 [10:11<00:00, 32.16s/it]\n",
            "               Class     Images     Labels          P          R     mAP@.5 mAP@.5:.95:  50% 2/4 [00:34<00:34, 17.44s/it]WARNING: NMS time limit 1.500s exceeded\n",
            "               Class     Images     Labels          P          R     mAP@.5 mAP@.5:.95: 100% 4/4 [01:00<00:00, 15.10s/it]\n",
            "                 all        124        318      0.524     0.0643     0.0305     0.0113\n",
            "\n",
            "     Epoch   gpu_mem       box       obj       cls    labels  img_size\n",
            "     11/49        0G    0.0783   0.04367    0.0334        55       640: 100% 19/19 [10:15<00:00, 32.40s/it]\n",
            "               Class     Images     Labels          P          R     mAP@.5 mAP@.5:.95:  25% 1/4 [00:18<00:54, 18.05s/it]WARNING: NMS time limit 1.500s exceeded\n",
            "               Class     Images     Labels          P          R     mAP@.5 mAP@.5:.95:  50% 2/4 [00:36<00:36, 18.26s/it]WARNING: NMS time limit 1.500s exceeded\n",
            "               Class     Images     Labels          P          R     mAP@.5 mAP@.5:.95: 100% 4/4 [01:02<00:00, 15.58s/it]\n",
            "                 all        124        318      0.472      0.138     0.0621      0.021\n",
            "\n",
            "     Epoch   gpu_mem       box       obj       cls    labels  img_size\n",
            "     12/49        0G     0.075   0.04552     0.032        53       640: 100% 19/19 [10:23<00:00, 32.79s/it]\n",
            "               Class     Images     Labels          P          R     mAP@.5 mAP@.5:.95:  50% 2/4 [00:35<00:35, 17.64s/it]WARNING: NMS time limit 1.500s exceeded\n",
            "               Class     Images     Labels          P          R     mAP@.5 mAP@.5:.95: 100% 4/4 [01:01<00:00, 15.34s/it]\n",
            "                 all        124        318      0.313      0.191     0.0557     0.0154\n",
            "\n",
            "     Epoch   gpu_mem       box       obj       cls    labels  img_size\n",
            "     13/49        0G   0.07494    0.0445   0.03141        29       640: 100% 19/19 [10:26<00:00, 32.98s/it]\n",
            "               Class     Images     Labels          P          R     mAP@.5 mAP@.5:.95: 100% 4/4 [00:59<00:00, 14.98s/it]\n",
            "                 all        124        318      0.379       0.19      0.122      0.033\n",
            "\n",
            "     Epoch   gpu_mem       box       obj       cls    labels  img_size\n",
            "     14/49        0G   0.07439   0.04472   0.03122        45       640: 100% 19/19 [10:21<00:00, 32.71s/it]\n",
            "               Class     Images     Labels          P          R     mAP@.5 mAP@.5:.95:  25% 1/4 [00:19<00:57, 19.06s/it]WARNING: NMS time limit 1.500s exceeded\n",
            "               Class     Images     Labels          P          R     mAP@.5 mAP@.5:.95:  50% 2/4 [00:38<00:38, 19.12s/it]WARNING: NMS time limit 1.500s exceeded\n",
            "               Class     Images     Labels          P          R     mAP@.5 mAP@.5:.95: 100% 4/4 [01:04<00:00, 16.13s/it]\n",
            "                 all        124        318      0.366      0.111     0.0709       0.02\n",
            "\n",
            "     Epoch   gpu_mem       box       obj       cls    labels  img_size\n",
            "     15/49        0G   0.07333   0.04236   0.02989        48       640: 100% 19/19 [10:19<00:00, 32.58s/it]\n",
            "               Class     Images     Labels          P          R     mAP@.5 mAP@.5:.95:  50% 2/4 [00:35<00:35, 17.96s/it]WARNING: NMS time limit 1.500s exceeded\n",
            "               Class     Images     Labels          P          R     mAP@.5 mAP@.5:.95: 100% 4/4 [01:01<00:00, 15.41s/it]\n",
            "                 all        124        318      0.511      0.126      0.127     0.0417\n",
            "\n",
            "     Epoch   gpu_mem       box       obj       cls    labels  img_size\n",
            "     16/49        0G   0.07258   0.04597   0.02888        46       640: 100% 19/19 [10:28<00:00, 33.05s/it]\n",
            "               Class     Images     Labels          P          R     mAP@.5 mAP@.5:.95:  50% 2/4 [00:34<00:35, 17.52s/it]WARNING: NMS time limit 1.500s exceeded\n",
            "               Class     Images     Labels          P          R     mAP@.5 mAP@.5:.95: 100% 4/4 [01:01<00:00, 15.27s/it]\n",
            "                 all        124        318        0.4      0.206     0.0915     0.0251\n",
            "\n",
            "     Epoch   gpu_mem       box       obj       cls    labels  img_size\n",
            "     17/49        0G   0.07259   0.04303   0.02875        75       640: 100% 19/19 [10:18<00:00, 32.57s/it]\n",
            "               Class     Images     Labels          P          R     mAP@.5 mAP@.5:.95:  50% 2/4 [00:35<00:35, 17.53s/it]WARNING: NMS time limit 1.500s exceeded\n",
            "               Class     Images     Labels          P          R     mAP@.5 mAP@.5:.95: 100% 4/4 [01:00<00:00, 15.17s/it]\n",
            "                 all        124        318      0.231      0.171      0.139     0.0407\n",
            "\n",
            "     Epoch   gpu_mem       box       obj       cls    labels  img_size\n",
            "     18/49        0G   0.07225   0.04421   0.02715        50       640: 100% 19/19 [10:18<00:00, 32.54s/it]\n",
            "               Class     Images     Labels          P          R     mAP@.5 mAP@.5:.95:  50% 2/4 [00:35<00:35, 17.79s/it]WARNING: NMS time limit 1.500s exceeded\n",
            "               Class     Images     Labels          P          R     mAP@.5 mAP@.5:.95: 100% 4/4 [01:01<00:00, 15.30s/it]\n",
            "                 all        124        318      0.181       0.17      0.118     0.0359\n",
            "\n",
            "     Epoch   gpu_mem       box       obj       cls    labels  img_size\n",
            "     19/49        0G   0.07192   0.04229   0.02741        45       640: 100% 19/19 [10:36<00:00, 33.49s/it]\n",
            "               Class     Images     Labels          P          R     mAP@.5 mAP@.5:.95:  25% 1/4 [00:17<00:53, 17.71s/it]WARNING: NMS time limit 1.500s exceeded\n",
            "               Class     Images     Labels          P          R     mAP@.5 mAP@.5:.95: 100% 4/4 [01:02<00:00, 15.51s/it]\n",
            "                 all        124        318      0.353      0.166     0.0974     0.0299\n",
            "\n",
            "     Epoch   gpu_mem       box       obj       cls    labels  img_size\n",
            "     20/49        0G    0.0718   0.04509   0.02762        61       640: 100% 19/19 [10:24<00:00, 32.87s/it]\n",
            "               Class     Images     Labels          P          R     mAP@.5 mAP@.5:.95: 100% 4/4 [01:00<00:00, 15.21s/it]\n",
            "                 all        124        318      0.193      0.185      0.118     0.0381\n",
            "\n",
            "     Epoch   gpu_mem       box       obj       cls    labels  img_size\n",
            "     21/49        0G    0.0692   0.04098   0.02596        31       640: 100% 19/19 [10:21<00:00, 32.72s/it]\n",
            "               Class     Images     Labels          P          R     mAP@.5 mAP@.5:.95: 100% 4/4 [01:00<00:00, 15.08s/it]\n",
            "                 all        124        318     0.0983      0.199      0.114      0.034\n",
            "\n",
            "     Epoch   gpu_mem       box       obj       cls    labels  img_size\n",
            "     22/49        0G   0.07069   0.04242   0.02585        48       640: 100% 19/19 [10:21<00:00, 32.72s/it]\n",
            "               Class     Images     Labels          P          R     mAP@.5 mAP@.5:.95: 100% 4/4 [00:59<00:00, 14.93s/it]\n",
            "                 all        124        318      0.359      0.327      0.325      0.123\n",
            "\n",
            "     Epoch   gpu_mem       box       obj       cls    labels  img_size\n",
            "     23/49        0G   0.06903   0.04221   0.02333        41       640: 100% 19/19 [10:22<00:00, 32.76s/it]\n",
            "               Class     Images     Labels          P          R     mAP@.5 mAP@.5:.95: 100% 4/4 [01:00<00:00, 15.12s/it]\n",
            "                 all        124        318      0.168      0.263      0.166     0.0528\n",
            "\n",
            "     Epoch   gpu_mem       box       obj       cls    labels  img_size\n",
            "     24/49        0G   0.06841   0.04461   0.02161        53       640: 100% 19/19 [10:24<00:00, 32.88s/it]\n",
            "               Class     Images     Labels          P          R     mAP@.5 mAP@.5:.95:  50% 2/4 [00:35<00:35, 17.98s/it]WARNING: NMS time limit 1.500s exceeded\n",
            "               Class     Images     Labels          P          R     mAP@.5 mAP@.5:.95: 100% 4/4 [01:05<00:00, 16.45s/it]\n",
            "                 all        124        318       0.16      0.204      0.107      0.033\n",
            "\n",
            "     Epoch   gpu_mem       box       obj       cls    labels  img_size\n",
            "     25/49        0G   0.06806   0.04048   0.02156        39       640: 100% 19/19 [10:37<00:00, 33.55s/it]\n",
            "               Class     Images     Labels          P          R     mAP@.5 mAP@.5:.95: 100% 4/4 [00:59<00:00, 14.97s/it]\n",
            "                 all        124        318      0.111      0.187     0.0822     0.0204\n",
            "\n",
            "     Epoch   gpu_mem       box       obj       cls    labels  img_size\n",
            "     26/49        0G    0.0681   0.04234    0.0205        53       640: 100% 19/19 [10:24<00:00, 32.88s/it]\n",
            "               Class     Images     Labels          P          R     mAP@.5 mAP@.5:.95: 100% 4/4 [01:00<00:00, 15.20s/it]\n",
            "                 all        124        318      0.267        0.2      0.188     0.0689\n",
            "\n",
            "     Epoch   gpu_mem       box       obj       cls    labels  img_size\n",
            "     27/49        0G   0.06701   0.04134   0.01878        51       640: 100% 19/19 [10:19<00:00, 32.61s/it]\n",
            "               Class     Images     Labels          P          R     mAP@.5 mAP@.5:.95: 100% 4/4 [01:00<00:00, 15.14s/it]\n",
            "                 all        124        318      0.194      0.376       0.17      0.052\n",
            "\n",
            "     Epoch   gpu_mem       box       obj       cls    labels  img_size\n",
            "     28/49        0G   0.06813   0.04182   0.02006        33       640: 100% 19/19 [10:24<00:00, 32.89s/it]\n",
            "               Class     Images     Labels          P          R     mAP@.5 mAP@.5:.95: 100% 4/4 [00:59<00:00, 14.96s/it]\n",
            "                 all        124        318      0.307      0.366      0.268     0.0741\n",
            "\n",
            "     Epoch   gpu_mem       box       obj       cls    labels  img_size\n",
            "     29/49        0G   0.06584   0.04351   0.01858        31       640: 100% 19/19 [10:23<00:00, 32.83s/it]\n",
            "               Class     Images     Labels          P          R     mAP@.5 mAP@.5:.95: 100% 4/4 [00:59<00:00, 14.88s/it]\n",
            "                 all        124        318      0.391      0.343      0.298     0.0886\n",
            "\n",
            "     Epoch   gpu_mem       box       obj       cls    labels  img_size\n",
            "     30/49        0G   0.06481   0.04262   0.01749        44       640: 100% 19/19 [10:23<00:00, 32.82s/it]\n",
            "               Class     Images     Labels          P          R     mAP@.5 mAP@.5:.95: 100% 4/4 [00:59<00:00, 14.85s/it]\n",
            "                 all        124        318       0.38      0.359      0.232      0.073\n",
            "\n",
            "     Epoch   gpu_mem       box       obj       cls    labels  img_size\n",
            "     31/49        0G   0.06487   0.04288   0.01445        70       640: 100% 19/19 [10:28<00:00, 33.09s/it]\n",
            "               Class     Images     Labels          P          R     mAP@.5 mAP@.5:.95: 100% 4/4 [00:59<00:00, 14.93s/it]\n",
            "                 all        124        318      0.418      0.329      0.334     0.0978\n",
            "\n",
            "     Epoch   gpu_mem       box       obj       cls    labels  img_size\n",
            "     32/49        0G   0.06578   0.04003   0.01719        48       640: 100% 19/19 [10:37<00:00, 33.53s/it]\n",
            "               Class     Images     Labels          P          R     mAP@.5 mAP@.5:.95: 100% 4/4 [01:03<00:00, 15.89s/it]\n",
            "                 all        124        318      0.544      0.262      0.303      0.111\n",
            "\n",
            "     Epoch   gpu_mem       box       obj       cls    labels  img_size\n",
            "     33/49        0G   0.06434   0.04282   0.01525        65       640: 100% 19/19 [10:26<00:00, 33.00s/it]\n",
            "               Class     Images     Labels          P          R     mAP@.5 mAP@.5:.95: 100% 4/4 [01:01<00:00, 15.41s/it]\n",
            "                 all        124        318      0.467       0.42       0.39      0.139\n",
            "\n",
            "     Epoch   gpu_mem       box       obj       cls    labels  img_size\n",
            "     34/49        0G   0.06373   0.04109   0.01358        66       640: 100% 19/19 [10:27<00:00, 33.04s/it]\n",
            "               Class     Images     Labels          P          R     mAP@.5 mAP@.5:.95: 100% 4/4 [00:59<00:00, 14.97s/it]\n",
            "                 all        124        318      0.479      0.441      0.424      0.158\n",
            "\n",
            "     Epoch   gpu_mem       box       obj       cls    labels  img_size\n",
            "     35/49        0G   0.06273   0.04143   0.01272        32       640: 100% 19/19 [10:21<00:00, 32.69s/it]\n",
            "               Class     Images     Labels          P          R     mAP@.5 mAP@.5:.95: 100% 4/4 [00:59<00:00, 14.76s/it]\n",
            "                 all        124        318      0.458      0.493      0.447      0.167\n",
            "\n",
            "     Epoch   gpu_mem       box       obj       cls    labels  img_size\n",
            "     36/49        0G   0.06306   0.04238   0.01314        52       640: 100% 19/19 [10:23<00:00, 32.81s/it]\n",
            "               Class     Images     Labels          P          R     mAP@.5 mAP@.5:.95: 100% 4/4 [01:00<00:00, 15.09s/it]\n",
            "                 all        124        318      0.399      0.392      0.399      0.155\n",
            "\n",
            "     Epoch   gpu_mem       box       obj       cls    labels  img_size\n",
            "     37/49        0G   0.06326   0.04189   0.01294        46       640: 100% 19/19 [10:19<00:00, 32.63s/it]\n",
            "               Class     Images     Labels          P          R     mAP@.5 mAP@.5:.95: 100% 4/4 [00:58<00:00, 14.64s/it]\n",
            "                 all        124        318      0.484      0.464      0.453      0.161\n",
            "\n",
            "     Epoch   gpu_mem       box       obj       cls    labels  img_size\n",
            "     38/49        0G   0.05953    0.0409   0.01209        54       640: 100% 19/19 [10:32<00:00, 33.29s/it]\n",
            "               Class     Images     Labels          P          R     mAP@.5 mAP@.5:.95: 100% 4/4 [00:59<00:00, 14.98s/it]\n",
            "                 all        124        318      0.432       0.48      0.468      0.191\n",
            "\n",
            "     Epoch   gpu_mem       box       obj       cls    labels  img_size\n",
            "     39/49        0G     0.063   0.04265   0.01218        40       640: 100% 19/19 [10:34<00:00, 33.41s/it]\n",
            "               Class     Images     Labels          P          R     mAP@.5 mAP@.5:.95: 100% 4/4 [00:58<00:00, 14.62s/it]\n",
            "                 all        124        318      0.483      0.519      0.521      0.214\n",
            "\n",
            "     Epoch   gpu_mem       box       obj       cls    labels  img_size\n",
            "     40/49        0G   0.06001   0.04045   0.01221        55       640: 100% 19/19 [10:22<00:00, 32.78s/it]\n",
            "               Class     Images     Labels          P          R     mAP@.5 mAP@.5:.95: 100% 4/4 [01:03<00:00, 15.75s/it]\n",
            "                 all        124        318      0.351      0.324      0.312      0.128\n",
            "\n",
            "     Epoch   gpu_mem       box       obj       cls    labels  img_size\n",
            "     41/49        0G   0.06139   0.03925    0.0116        43       640: 100% 19/19 [10:24<00:00, 32.88s/it]\n",
            "               Class     Images     Labels          P          R     mAP@.5 mAP@.5:.95: 100% 4/4 [00:59<00:00, 14.76s/it]\n",
            "                 all        124        318      0.414      0.316      0.322      0.119\n",
            "\n",
            "     Epoch   gpu_mem       box       obj       cls    labels  img_size\n",
            "     42/49        0G   0.05922   0.04266   0.01167        34       640: 100% 19/19 [10:21<00:00, 32.71s/it]\n",
            "               Class     Images     Labels          P          R     mAP@.5 mAP@.5:.95: 100% 4/4 [00:57<00:00, 14.47s/it]\n",
            "                 all        124        318      0.318      0.415      0.358       0.14\n",
            "\n",
            "     Epoch   gpu_mem       box       obj       cls    labels  img_size\n",
            "     43/49        0G   0.06008   0.04056   0.01115        43       640: 100% 19/19 [10:24<00:00, 32.86s/it]\n",
            "               Class     Images     Labels          P          R     mAP@.5 mAP@.5:.95: 100% 4/4 [00:59<00:00, 14.79s/it]\n",
            "                 all        124        318      0.425      0.357      0.389      0.148\n",
            "\n",
            "     Epoch   gpu_mem       box       obj       cls    labels  img_size\n",
            "     44/49        0G   0.06069   0.04116   0.01093        52       640: 100% 19/19 [10:36<00:00, 33.51s/it]\n",
            "               Class     Images     Labels          P          R     mAP@.5 mAP@.5:.95: 100% 4/4 [00:58<00:00, 14.69s/it]\n",
            "                 all        124        318      0.359      0.469      0.401      0.169\n",
            "\n",
            "     Epoch   gpu_mem       box       obj       cls    labels  img_size\n",
            "     45/49        0G   0.05879   0.04098   0.01035        67       640: 100% 19/19 [10:34<00:00, 33.40s/it]\n",
            "               Class     Images     Labels          P          R     mAP@.5 mAP@.5:.95: 100% 4/4 [00:59<00:00, 14.78s/it]\n",
            "                 all        124        318      0.437      0.495      0.462       0.19\n",
            "\n",
            "     Epoch   gpu_mem       box       obj       cls    labels  img_size\n",
            "     46/49        0G   0.05802   0.03961  0.009799        46       640: 100% 19/19 [10:30<00:00, 33.18s/it]\n",
            "               Class     Images     Labels          P          R     mAP@.5 mAP@.5:.95: 100% 4/4 [00:58<00:00, 14.59s/it]\n",
            "                 all        124        318      0.545      0.493      0.505      0.202\n",
            "\n",
            "     Epoch   gpu_mem       box       obj       cls    labels  img_size\n",
            "     47/49        0G   0.05939   0.04027    0.0099        44       640: 100% 19/19 [10:34<00:00, 33.41s/it]\n",
            "               Class     Images     Labels          P          R     mAP@.5 mAP@.5:.95: 100% 4/4 [00:58<00:00, 14.59s/it]\n",
            "                 all        124        318      0.485      0.503      0.508      0.207\n",
            "\n",
            "     Epoch   gpu_mem       box       obj       cls    labels  img_size\n",
            "     48/49        0G   0.05855   0.03974  0.009726        40       640: 100% 19/19 [10:28<00:00, 33.10s/it]\n",
            "               Class     Images     Labels          P          R     mAP@.5 mAP@.5:.95: 100% 4/4 [01:03<00:00, 15.81s/it]\n",
            "                 all        124        318      0.499       0.43      0.455      0.192\n",
            "\n",
            "     Epoch   gpu_mem       box       obj       cls    labels  img_size\n",
            "     49/49        0G   0.05804   0.04174   0.01029        57       640: 100% 19/19 [10:26<00:00, 32.95s/it]\n",
            "               Class     Images     Labels          P          R     mAP@.5 mAP@.5:.95: 100% 4/4 [00:59<00:00, 14.78s/it]\n",
            "                 all        124        318      0.443      0.495       0.48      0.199\n",
            "\n",
            "50 epochs completed in 9.518 hours.\n",
            "Optimizer stripped from runs/train/yolov5s_results/weights/last.pt, 15.0MB\n",
            "Optimizer stripped from runs/train/yolov5s_results/weights/best.pt, 15.0MB\n",
            "\n",
            "Validating runs/train/yolov5s_results/weights/best.pt...\n",
            "Fusing layers... \n",
            "custom_YOLOv5s summary: 232 layers, 7254609 parameters, 0 gradients, 16.8 GFLOPs\n",
            "               Class     Images     Labels          P          R     mAP@.5 mAP@.5:.95: 100% 4/4 [00:57<00:00, 14.47s/it]\n",
            "                 all        124        318      0.485      0.524      0.521      0.213\n",
            "                   0        124         32      0.569      0.495      0.502      0.194\n",
            "                   1        124         35       0.83      0.571      0.773      0.327\n",
            "                   2        124        187      0.319      0.738      0.648       0.28\n",
            "                   3        124         64      0.223      0.292       0.16     0.0526\n",
            "Results saved to \u001b[1mruns/train/yolov5s_results\u001b[0m\n",
            "CPU times: user 5min 14s, sys: 46.9 s, total: 6min 1s\n",
            "Wall time: 9h 33min 29s\n"
          ]
        }
      ]
    },
    {
      "cell_type": "code",
      "source": [
        "%ls runs/"
      ],
      "metadata": {
        "colab": {
          "base_uri": "https://localhost:8080/"
        },
        "id": "MpBa-5iu40IC",
        "outputId": "4178c745-5274-4210-de6b-c6132a1867ca"
      },
      "execution_count": null,
      "outputs": [
        {
          "output_type": "stream",
          "name": "stdout",
          "text": [
            "\u001b[0m\u001b[01;34mtrain\u001b[0m/\n"
          ]
        }
      ]
    },
    {
      "cell_type": "code",
      "source": [
        "%ls runs/train/yolov5s_results/weights/"
      ],
      "metadata": {
        "colab": {
          "base_uri": "https://localhost:8080/"
        },
        "id": "-rwzVQos5YPg",
        "outputId": "177e9d1e-1570-4850-b270-7f565851ee67"
      },
      "execution_count": null,
      "outputs": [
        {
          "output_type": "stream",
          "name": "stdout",
          "text": [
            "best.pt  last.pt\n"
          ]
        }
      ]
    },
    {
      "cell_type": "code",
      "source": [
        "%cd /content/yolov5/\n",
        "!python detect.py --weights runs/train/yolov5s_results/weights/best.pt --conf 0.4 --source ../test/images"
      ],
      "metadata": {
        "colab": {
          "base_uri": "https://localhost:8080/"
        },
        "id": "UdKApNgj6AwB",
        "outputId": "6005cab3-b5c0-4c3c-cd6e-7c29434cb114"
      },
      "execution_count": null,
      "outputs": [
        {
          "output_type": "stream",
          "name": "stdout",
          "text": [
            "/content/yolov5\n",
            "\u001b[34m\u001b[1mdetect: \u001b[0mweights=['runs/train/yolov5s_results/weights/best.pt'], source=../test/images, data=data/coco128.yaml, imgsz=[640, 640], conf_thres=0.4, iou_thres=0.45, max_det=1000, device=, view_img=False, save_txt=False, save_conf=False, save_crop=False, nosave=False, classes=None, agnostic_nms=False, augment=False, visualize=False, update=False, project=runs/detect, name=exp, exist_ok=False, line_thickness=3, hide_labels=False, hide_conf=False, half=False, dnn=False\n",
            "YOLOv5 🚀 v6.1-306-gfbe67e4 Python-3.7.15 torch-1.12.1+cu113 CPU\n",
            "\n",
            "Fusing layers... \n",
            "custom_YOLOv5s summary: 232 layers, 7254609 parameters, 0 gradients, 16.8 GFLOPs\n",
            "Traceback (most recent call last):\n",
            "  File \"detect.py\", line 256, in <module>\n",
            "    main(opt)\n",
            "  File \"detect.py\", line 251, in main\n",
            "    run(**vars(opt))\n",
            "  File \"/usr/local/lib/python3.7/dist-packages/torch/autograd/grad_mode.py\", line 27, in decorate_context\n",
            "    return func(*args, **kwargs)\n",
            "  File \"detect.py\", line 103, in run\n",
            "    dataset = LoadImages(source, img_size=imgsz, stride=stride, auto=pt)\n",
            "  File \"/content/yolov5/utils/dataloaders.py\", line 189, in __init__\n",
            "    raise FileNotFoundError(f'{p} does not exist')\n",
            "FileNotFoundError: /content/test/images does not exist\n"
          ]
        }
      ]
    },
    {
      "cell_type": "code",
      "source": [
        "%cd /content/yolov5/\n",
        "!python detect.py --weights runs/train/yolov5s_results/weights/best.pt --conf 0.4 --source /content/yolov5/Yoda-1/valid/images"
      ],
      "metadata": {
        "colab": {
          "base_uri": "https://localhost:8080/"
        },
        "id": "81uEm8Nf6Ocs",
        "outputId": "df16b638-92f2-446a-fad0-fd723de7f8f6"
      },
      "execution_count": null,
      "outputs": [
        {
          "output_type": "stream",
          "name": "stdout",
          "text": [
            "/content/yolov5\n",
            "\u001b[34m\u001b[1mdetect: \u001b[0mweights=['runs/train/yolov5s_results/weights/best.pt'], source=/content/yolov5/Yoda-1/valid/images, data=data/coco128.yaml, imgsz=[640, 640], conf_thres=0.4, iou_thres=0.45, max_det=1000, device=, view_img=False, save_txt=False, save_conf=False, save_crop=False, nosave=False, classes=None, agnostic_nms=False, augment=False, visualize=False, update=False, project=runs/detect, name=exp, exist_ok=False, line_thickness=3, hide_labels=False, hide_conf=False, half=False, dnn=False\n",
            "YOLOv5 🚀 v6.1-306-gfbe67e4 Python-3.7.15 torch-1.12.1+cu113 CPU\n",
            "\n",
            "Fusing layers... \n",
            "custom_YOLOv5s summary: 232 layers, 7254609 parameters, 0 gradients, 16.8 GFLOPs\n",
            "image 1/124 /content/yolov5/Yoda-1/valid/images/cocklebur_006_jpg.rf.5272913938c8ebe16556b40f870320e3.jpg: 480x640 Done. (0.522s)\n",
            "image 2/124 /content/yolov5/Yoda-1/valid/images/cocklebur_014_jpg.rf.1fccc972241a0c9663c182c3de11f9c7.jpg: 480x640 Done. (0.443s)\n",
            "image 3/124 /content/yolov5/Yoda-1/valid/images/cocklebur_015_jpg.rf.2ea504aa4d030efb06fbf55a7b998ead.jpg: 480x640 3 2s, Done. (0.450s)\n",
            "image 4/124 /content/yolov5/Yoda-1/valid/images/cocklebur_021_jpg.rf.8b021e9d2daf44412be8e53b71abad20.jpg: 480x640 4 2s, Done. (0.461s)\n",
            "image 5/124 /content/yolov5/Yoda-1/valid/images/cocklebur_023_jpg.rf.233969dced9fd8c2aadc3b3c43125557.jpg: 480x640 4 2s, Done. (0.414s)\n",
            "image 6/124 /content/yolov5/Yoda-1/valid/images/cocklebur_031_jpg.rf.1f0e02eae1d68dbb27c6c692a8e1f8c4.jpg: 480x640 5 2s, Done. (0.432s)\n",
            "image 7/124 /content/yolov5/Yoda-1/valid/images/cocklebur_032_jpg.rf.7cc0a072bac2eb332c246c004c698749.jpg: 480x640 3 2s, Done. (0.427s)\n",
            "image 8/124 /content/yolov5/Yoda-1/valid/images/cocklebur_033_jpg.rf.f33458a1a83e1e3fd54f7c38886f7b7e.jpg: 480x640 7 2s, Done. (0.398s)\n",
            "image 9/124 /content/yolov5/Yoda-1/valid/images/cocklebur_040_jpg.rf.6cedff135da431fd11a039c1985cf4cf.jpg: 480x640 5 2s, Done. (0.419s)\n",
            "image 10/124 /content/yolov5/Yoda-1/valid/images/cocklebur_041_jpg.rf.53b5e15fd62d3bc2af4fedb0cd6f52fd.jpg: 480x640 7 2s, Done. (0.428s)\n",
            "image 11/124 /content/yolov5/Yoda-1/valid/images/cocklebur_054_jpg.rf.d2f8b38d2f27e3fc8bb1acafe22e7984.jpg: 480x640 4 2s, Done. (0.428s)\n",
            "image 12/124 /content/yolov5/Yoda-1/valid/images/cocklebur_055_jpg.rf.09d6b98d38ebdc79593b10c803889b95.jpg: 480x640 5 2s, Done. (0.429s)\n",
            "image 13/124 /content/yolov5/Yoda-1/valid/images/cocklebur_059_jpg.rf.516be62c5d840491d1a7063412a6079e.jpg: 480x640 1 2, Done. (0.405s)\n",
            "image 14/124 /content/yolov5/Yoda-1/valid/images/cocklebur_072_jpg.rf.bc93e160ae5f5b296e8b737bb10dd9fc.jpg: 480x640 Done. (0.430s)\n",
            "image 15/124 /content/yolov5/Yoda-1/valid/images/cocklebur_074_jpg.rf.eafa82ba8e3b0956e10c7054b990464c.jpg: 480x640 3 2s, Done. (0.438s)\n",
            "image 16/124 /content/yolov5/Yoda-1/valid/images/cocklebur_076_jpg.rf.c87208727d3b167cb244f6aa3c2fac0e.jpg: 480x640 5 2s, Done. (0.412s)\n",
            "image 17/124 /content/yolov5/Yoda-1/valid/images/cocklebur_078_jpg.rf.122117b8607316f5708b614cc2800e84.jpg: 480x640 3 2s, Done. (0.416s)\n",
            "image 18/124 /content/yolov5/Yoda-1/valid/images/cocklebur_084_jpg.rf.04d39a9086061e42c65657954077a9d1.jpg: 480x640 3 2s, Done. (0.394s)\n",
            "image 19/124 /content/yolov5/Yoda-1/valid/images/cocklebur_087_jpg.rf.8d15752c5d77261de3979669486e9147.jpg: 480x640 5 2s, Done. (0.438s)\n",
            "image 20/124 /content/yolov5/Yoda-1/valid/images/cocklebur_090_jpg.rf.b8b14246bcd5f964eca71433bea323c2.jpg: 480x640 2 2s, Done. (0.411s)\n",
            "image 21/124 /content/yolov5/Yoda-1/valid/images/cocklebur_091_jpg.rf.1b78488d17e5b540fdc188467c13baa4.jpg: 480x640 3 2s, Done. (0.369s)\n",
            "image 22/124 /content/yolov5/Yoda-1/valid/images/cocklebur_092_jpg.rf.9ee846981322299b8831d8bf64069172.jpg: 480x640 4 2s, Done. (0.381s)\n",
            "image 23/124 /content/yolov5/Yoda-1/valid/images/cocklebur_100_jpg.rf.c515a7160483d50abb7f71976e436017.jpg: 480x640 3 2s, Done. (0.369s)\n",
            "image 24/124 /content/yolov5/Yoda-1/valid/images/cocklebur_105_jpg.rf.23a88137542b9c2ba09f934771beb16f.jpg: 480x640 4 2s, Done. (0.357s)\n",
            "image 25/124 /content/yolov5/Yoda-1/valid/images/cocklebur_106_jpg.rf.7967b198f017e9342a011eb068ae4e21.jpg: 480x640 7 2s, Done. (0.349s)\n",
            "image 26/124 /content/yolov5/Yoda-1/valid/images/cocklebur_108_jpg.rf.73bc857e82192b66049ae9b4516b12a8.jpg: 480x640 4 2s, Done. (0.362s)\n",
            "image 27/124 /content/yolov5/Yoda-1/valid/images/cocklebur_109_jpg.rf.31a7c16ec038869ccc956658d9d307a5.jpg: 480x640 3 2s, Done. (0.359s)\n",
            "image 28/124 /content/yolov5/Yoda-1/valid/images/cocklebur_114_jpg.rf.ceb27e3f712a2528a1a4e56bbb4e63a9.jpg: 480x640 7 2s, Done. (0.366s)\n",
            "image 29/124 /content/yolov5/Yoda-1/valid/images/cocklebur_119_jpg.rf.82495bdbb7b38d2bcc9d4d71559c3065.jpg: 480x640 3 2s, Done. (0.366s)\n",
            "image 30/124 /content/yolov5/Yoda-1/valid/images/cocklebur_130_jpg.rf.65ab1ab7bc4ecd7a0a143f7f31636f73.jpg: 480x640 2 2s, Done. (0.361s)\n",
            "image 31/124 /content/yolov5/Yoda-1/valid/images/cocklebur_131_jpg.rf.2221dc44cd23dc85f49a858aa5dec6eb.jpg: 480x640 3 2s, Done. (0.378s)\n",
            "image 32/124 /content/yolov5/Yoda-1/valid/images/cocklebur_133_jpg.rf.583ff665a4885c447bccac6bcd8fe63d.jpg: 480x640 4 2s, Done. (0.374s)\n",
            "image 33/124 /content/yolov5/Yoda-1/valid/images/cocklebur_136_jpg.rf.8f6ee48798d1144213c958d34b4e4179.jpg: 480x640 3 2s, Done. (0.352s)\n",
            "image 34/124 /content/yolov5/Yoda-1/valid/images/cocklebur_139_jpg.rf.080e8dae0b78d1e45cef5e884e721ac3.jpg: 480x640 3 2s, Done. (0.350s)\n",
            "image 35/124 /content/yolov5/Yoda-1/valid/images/cocklebur_143_jpg.rf.899308efe86a2a6a95cb4058a763b185.jpg: 480x640 7 2s, Done. (0.351s)\n",
            "image 36/124 /content/yolov5/Yoda-1/valid/images/cocklebur_147_jpg.rf.200bf9fef6424f67fcdccfdeb7f9a0d8.jpg: 480x640 4 2s, Done. (0.376s)\n",
            "image 37/124 /content/yolov5/Yoda-1/valid/images/cocklebur_148_jpg.rf.571c37df4d124f01b9e4d2d8b56b8037.jpg: 480x640 3 2s, Done. (0.375s)\n",
            "image 38/124 /content/yolov5/Yoda-1/valid/images/cocklebur_149_jpg.rf.cbd4fdff6238d8045969e7919589ca16.jpg: 480x640 3 2s, Done. (0.410s)\n",
            "image 39/124 /content/yolov5/Yoda-1/valid/images/cocklebur_151_jpg.rf.bed4a846430d97ce0e82010d4a27ee5d.jpg: 480x640 4 2s, Done. (0.352s)\n",
            "image 40/124 /content/yolov5/Yoda-1/valid/images/foxtail_003_jpg.rf.e99b734ddf112bf5534daeb107d07d6c.jpg: 480x640 Done. (0.339s)\n",
            "image 41/124 /content/yolov5/Yoda-1/valid/images/foxtail_004_jpg.rf.6687f43cee7d6741e49bed2533e4d5cf.jpg: 480x640 Done. (0.351s)\n",
            "image 42/124 /content/yolov5/Yoda-1/valid/images/foxtail_008_jpg.rf.fb75f2a5b4da9a073622ea2d07254902.jpg: 480x640 Done. (0.364s)\n",
            "image 43/124 /content/yolov5/Yoda-1/valid/images/foxtail_009_jpg.rf.51f2d3abdd098f56932a16b01aae2c27.jpg: 480x640 Done. (0.355s)\n",
            "image 44/124 /content/yolov5/Yoda-1/valid/images/foxtail_011_jpg.rf.e5ea0578ad46abd1f6b7d029b062e4bf.jpg: 480x640 Done. (0.402s)\n",
            "image 45/124 /content/yolov5/Yoda-1/valid/images/foxtail_012_jpg.rf.1920eb1ba2c0bb94873165b9c1b98f72.jpg: 480x640 Done. (0.365s)\n",
            "image 46/124 /content/yolov5/Yoda-1/valid/images/foxtail_019_jpg.rf.d26f5dc2e9a84882ea03480c29bd029a.jpg: 480x640 Done. (0.352s)\n",
            "image 47/124 /content/yolov5/Yoda-1/valid/images/foxtail_021_jpg.rf.8d1ffbb3b4db0cb107098204e1fb468b.jpg: 480x640 Done. (0.341s)\n",
            "image 48/124 /content/yolov5/Yoda-1/valid/images/foxtail_024_jpg.rf.da7d74c604d2567bd208069b2ae3188c.jpg: 480x640 Done. (0.372s)\n",
            "image 49/124 /content/yolov5/Yoda-1/valid/images/foxtail_029_jpg.rf.3a87f0403de9e98fba0d11402207b2d7.jpg: 480x640 Done. (0.368s)\n",
            "image 50/124 /content/yolov5/Yoda-1/valid/images/foxtail_032_jpg.rf.f235811a8719d30aa3ae7ce3c36d7f9b.jpg: 480x640 Done. (0.457s)\n",
            "image 51/124 /content/yolov5/Yoda-1/valid/images/foxtail_048_jpg.rf.57a2a3251b4b82881cf52c3253fb86d6.jpg: 640x640 Done. (0.498s)\n",
            "image 52/124 /content/yolov5/Yoda-1/valid/images/foxtail_049_jpg.rf.d7df5abc3ac94605d28ad3fd4bb486c8.jpg: 640x640 Done. (0.470s)\n",
            "image 53/124 /content/yolov5/Yoda-1/valid/images/foxtail_053_jpg.rf.a3172d2012e7aa17e86424ffc5d1dff3.jpg: 640x640 Done. (0.483s)\n",
            "image 54/124 /content/yolov5/Yoda-1/valid/images/foxtail_057_jpg.rf.7f4d37854652706e0eb283568553abf9.jpg: 640x640 Done. (0.478s)\n",
            "image 55/124 /content/yolov5/Yoda-1/valid/images/foxtail_058_jpg.rf.9003ddd2b9dc994b978e19adc3ba633f.jpg: 640x640 Done. (0.499s)\n",
            "image 56/124 /content/yolov5/Yoda-1/valid/images/foxtail_067_jpg.rf.9ffa89bdf74e2899819951a2a3945698.jpg: 640x640 Done. (0.500s)\n",
            "image 57/124 /content/yolov5/Yoda-1/valid/images/foxtail_071_jpg.rf.03150c6f7ac655063bfe811c6f50491a.jpg: 640x640 Done. (0.489s)\n",
            "image 58/124 /content/yolov5/Yoda-1/valid/images/foxtail_086_jpg.rf.31f5f118ac8dffcbf7eb20b0b9b77bf2.jpg: 480x640 Done. (0.372s)\n",
            "image 59/124 /content/yolov5/Yoda-1/valid/images/foxtail_093_jpg.rf.d15fc340a7368011375decc01acea65b.jpg: 480x640 Done. (0.363s)\n",
            "image 60/124 /content/yolov5/Yoda-1/valid/images/foxtail_094_jpg.rf.33d4f3df31ec57552cc14257da1e4737.jpg: 480x640 Done. (0.359s)\n",
            "image 61/124 /content/yolov5/Yoda-1/valid/images/foxtail_095_jpg.rf.bc9b1393dcf80aaca98522c1fbe87682.jpg: 480x640 Done. (0.348s)\n",
            "image 62/124 /content/yolov5/Yoda-1/valid/images/foxtail_098_jpg.rf.4348b855b32b4ea25bf5351232e18d24.jpg: 480x640 Done. (0.371s)\n",
            "image 63/124 /content/yolov5/Yoda-1/valid/images/foxtail_105_jpg.rf.346ea4d00a35e05a656d7218702ee6ce.jpg: 480x640 Done. (0.355s)\n",
            "image 64/124 /content/yolov5/Yoda-1/valid/images/foxtail_111_jpg.rf.d20e39524ede5bbf2ce3ff8d75cbbe4f.jpg: 480x640 Done. (0.415s)\n",
            "image 65/124 /content/yolov5/Yoda-1/valid/images/foxtail_113_jpg.rf.0644bf8f25c543633c62fce68eb07d74.jpg: 480x640 Done. (0.388s)\n",
            "image 66/124 /content/yolov5/Yoda-1/valid/images/foxtail_119_jpg.rf.1d7d86a599bd6b25432c8c7cc355a83a.jpg: 480x640 Done. (0.407s)\n",
            "image 67/124 /content/yolov5/Yoda-1/valid/images/foxtail_125_jpg.rf.5cd2994381169d6ee1e8bea83cdd32f1.jpg: 480x640 Done. (0.402s)\n",
            "image 68/124 /content/yolov5/Yoda-1/valid/images/foxtail_126_jpg.rf.10725887e8c2a5959acd19e899d5fcf3.jpg: 480x640 Done. (0.413s)\n",
            "image 69/124 /content/yolov5/Yoda-1/valid/images/foxtail_131_jpg.rf.e41615d57fcf58ae65d0ad48d2faa96d.jpg: 480x640 Done. (0.407s)\n",
            "image 70/124 /content/yolov5/Yoda-1/valid/images/foxtail_136_jpg.rf.0f12819ac2310f744cce4311f490702f.jpg: 480x640 Done. (0.421s)\n",
            "image 71/124 /content/yolov5/Yoda-1/valid/images/foxtail_137_jpg.rf.e28f17b4c74acd8c4f5e22d4782e3147.jpg: 480x640 Done. (0.407s)\n",
            "image 72/124 /content/yolov5/Yoda-1/valid/images/pigweed_001_png.rf.165892da77f54654b74df6124841c214.jpg: 480x640 Done. (0.427s)\n",
            "image 73/124 /content/yolov5/Yoda-1/valid/images/pigweed_002_png.rf.5bf5facd7626418f3eff89266fea93eb.jpg: 480x640 Done. (0.422s)\n",
            "image 74/124 /content/yolov5/Yoda-1/valid/images/pigweed_003_png.rf.f561825c6813239341fb054a0e5e1b91.jpg: 480x640 Done. (0.491s)\n",
            "image 75/124 /content/yolov5/Yoda-1/valid/images/pigweed_004_png.rf.b18fe7b5028e620cd1d5c375bcd2008f.jpg: 480x640 Done. (0.418s)\n",
            "image 76/124 /content/yolov5/Yoda-1/valid/images/pigweed_007_png.rf.b232219c43ef5e33b13a3b34b9e81ee7.jpg: 480x640 Done. (0.427s)\n",
            "image 77/124 /content/yolov5/Yoda-1/valid/images/pigweed_016_png.rf.27b830c269ee067f22dcc379c132d7f8.jpg: 480x640 Done. (0.412s)\n",
            "image 78/124 /content/yolov5/Yoda-1/valid/images/pigweed_021_png.rf.cd488aa0920ed5a0ff06e59c492ba888.jpg: 480x640 1 1, Done. (0.446s)\n",
            "image 79/124 /content/yolov5/Yoda-1/valid/images/pigweed_029_png.rf.c0763a055d0f63487d85b572809ee78f.jpg: 640x640 Done. (0.554s)\n",
            "image 80/124 /content/yolov5/Yoda-1/valid/images/pigweed_030_png.rf.1f5cc224fc6cb1ebb11764dad6b05567.jpg: 640x640 Done. (0.549s)\n",
            "image 81/124 /content/yolov5/Yoda-1/valid/images/pigweed_031_png.rf.c5773bb7b3923507b3c4686dd7c60fb0.jpg: 640x640 Done. (0.538s)\n",
            "image 82/124 /content/yolov5/Yoda-1/valid/images/pigweed_034_png.rf.a1c51aae0eab05d5dd59e64bf54d03d6.jpg: 640x640 Done. (0.535s)\n",
            "image 83/124 /content/yolov5/Yoda-1/valid/images/pigweed_036_png.rf.49e9fce9d081ca19981231bc94519ff0.jpg: 640x640 Done. (0.557s)\n",
            "image 84/124 /content/yolov5/Yoda-1/valid/images/pigweed_040_png.rf.5a5a0024c8bc86c8155e8a2dadcdecc7.jpg: 640x640 Done. (0.549s)\n",
            "image 85/124 /content/yolov5/Yoda-1/valid/images/pigweed_044_png.rf.e516c70888caccb9cc7469303fe2e76f.jpg: 640x640 Done. (0.533s)\n",
            "image 86/124 /content/yolov5/Yoda-1/valid/images/pigweed_055_png.rf.ffdd2cf98156fbd1b0a7086010fc5ba3.jpg: 640x640 Done. (0.548s)\n",
            "image 87/124 /content/yolov5/Yoda-1/valid/images/pigweed_062_png.rf.0ef4b92426de55f6189ce356df6c1e1a.jpg: 640x640 Done. (0.530s)\n",
            "image 88/124 /content/yolov5/Yoda-1/valid/images/pigweed_063_png.rf.dc3736026a0efb85c6a27734cd56956a.jpg: 640x640 Done. (0.516s)\n",
            "image 89/124 /content/yolov5/Yoda-1/valid/images/pigweed_070_png.rf.08f237cbbfd7ff0e49f903f73a535366.jpg: 640x640 Done. (0.511s)\n",
            "image 90/124 /content/yolov5/Yoda-1/valid/images/pigweed_074_png.rf.926f06c3f1a156024ce45aed29c4e5d3.jpg: 640x640 Done. (0.501s)\n",
            "image 91/124 /content/yolov5/Yoda-1/valid/images/pigweed_076_png.rf.f67c659422991f740d55d021278505db.jpg: 640x640 Done. (0.498s)\n",
            "image 92/124 /content/yolov5/Yoda-1/valid/images/pigweed_079_png.rf.862dd48014629cf0b38b30a967d4717d.jpg: 640x640 Done. (0.486s)\n",
            "image 93/124 /content/yolov5/Yoda-1/valid/images/pigweed_114_png.rf.e2ce59ad7e0e1b156adb8529a5b5c498.jpg: 640x640 Done. (0.495s)\n",
            "image 94/124 /content/yolov5/Yoda-1/valid/images/pigweed_115_png.rf.7a5d5d1114cbf920bb3675d613906088.jpg: 640x640 Done. (0.482s)\n",
            "image 95/124 /content/yolov5/Yoda-1/valid/images/pigweed_116_png.rf.826f41220014cb4deaa8649cdd217e8f.jpg: 640x640 Done. (0.491s)\n",
            "image 96/124 /content/yolov5/Yoda-1/valid/images/pigweed_130_png.rf.dc92f0d16930b8240e1c399dacc5697d.jpg: 480x640 Done. (0.364s)\n",
            "image 97/124 /content/yolov5/Yoda-1/valid/images/pigweed_131_png.rf.a4a9aaf4daa5fef5f3b39cdbfa31c34d.jpg: 480x640 Done. (0.394s)\n",
            "image 98/124 /content/yolov5/Yoda-1/valid/images/pigweed_145_png.rf.2a0c3deb341e3b13d008fbd07322a63b.jpg: 480x640 Done. (0.367s)\n",
            "image 99/124 /content/yolov5/Yoda-1/valid/images/pigweed_149_png.rf.ab59010d75f4f1786758be428ec8193a.jpg: 480x640 Done. (0.361s)\n",
            "image 100/124 /content/yolov5/Yoda-1/valid/images/pigweed_151_png.rf.c14d961b9fd5c263dd29c974d17a6cfb.jpg: 480x640 1 1, Done. (0.368s)\n",
            "image 101/124 /content/yolov5/Yoda-1/valid/images/pigweed_154_png.rf.eadce288dd0c813652079b830fc4a9d0.jpg: 480x640 Done. (0.363s)\n",
            "image 102/124 /content/yolov5/Yoda-1/valid/images/pigweed_156_png.rf.8ee37c09fe577becca2377354c0afa07.jpg: 480x640 Done. (0.367s)\n",
            "image 103/124 /content/yolov5/Yoda-1/valid/images/pigweed_158_png.rf.60c8e19504614241a087514b6dbcb5dc.jpg: 480x640 Done. (0.368s)\n",
            "image 104/124 /content/yolov5/Yoda-1/valid/images/pigweed_159_png.rf.60c51a1edf3f63ea8173cd9a077d29d5.jpg: 480x640 1 1, Done. (0.369s)\n",
            "image 105/124 /content/yolov5/Yoda-1/valid/images/pigweed_168_png.rf.cb5c41b0abfaa4e1bc66d887aba903bb.jpg: 480x640 Done. (0.372s)\n",
            "image 106/124 /content/yolov5/Yoda-1/valid/images/ragweed_002_png.rf.3dba0928543e359479370402ec276723.jpg: 480x640 Done. (0.369s)\n",
            "image 107/124 /content/yolov5/Yoda-1/valid/images/ragweed_003_png.rf.2cde04fc484dbc1433f12a708164dc1a.jpg: 480x640 Done. (0.380s)\n",
            "image 108/124 /content/yolov5/Yoda-1/valid/images/ragweed_018_png.rf.1d964a4c1325a80e44f5febc534fab50.jpg: 480x640 Done. (0.370s)\n",
            "image 109/124 /content/yolov5/Yoda-1/valid/images/ragweed_019_png.rf.c8dee5355ba9e9f7d10360fd43510965.jpg: 480x640 Done. (0.360s)\n",
            "image 110/124 /content/yolov5/Yoda-1/valid/images/ragweed_034_png.rf.4d4e885492ecb7d9b4b6a504ef236b41.jpg: 480x640 Done. (0.361s)\n",
            "image 111/124 /content/yolov5/Yoda-1/valid/images/ragweed_046_png.rf.871ec481cb04f80f0350e996ba02b500.jpg: 480x640 1 0, Done. (0.357s)\n",
            "image 112/124 /content/yolov5/Yoda-1/valid/images/ragweed_070_png.rf.c3b5e8aa99f0e556979d30fe9a0d5ed4.jpg: 480x640 Done. (0.366s)\n",
            "image 113/124 /content/yolov5/Yoda-1/valid/images/ragweed_071_png.rf.5ab08f4b47086ae9815633826c6645af.jpg: 480x640 Done. (0.357s)\n",
            "image 114/124 /content/yolov5/Yoda-1/valid/images/ragweed_076_png.rf.dea73adcd1d13e5846712f3d8b9401c7.jpg: 480x640 Done. (0.350s)\n",
            "image 115/124 /content/yolov5/Yoda-1/valid/images/ragweed_084_png.rf.355375401bc0b0a40307467914b7b6e2.jpg: 480x640 Done. (0.355s)\n",
            "image 116/124 /content/yolov5/Yoda-1/valid/images/ragweed_093_png.rf.2731b24d94edc3d5d014158a37b45f96.jpg: 480x640 Done. (0.357s)\n",
            "image 117/124 /content/yolov5/Yoda-1/valid/images/ragweed_098_png.rf.b818e8423538aa7589bab902df2e3188.jpg: 480x640 Done. (0.361s)\n",
            "image 118/124 /content/yolov5/Yoda-1/valid/images/ragweed_110_png.rf.a24f30d2c6272e2005b211ac3da4a867.jpg: 480x640 Done. (0.357s)\n",
            "image 119/124 /content/yolov5/Yoda-1/valid/images/ragweed_130_png.rf.a6e91dc0a2d8540cc62e03141c467364.jpg: 480x640 Done. (0.360s)\n",
            "image 120/124 /content/yolov5/Yoda-1/valid/images/ragweed_131_png.rf.8ceca66c76c4769b05ed7bbfba138026.jpg: 480x640 Done. (0.360s)\n",
            "image 121/124 /content/yolov5/Yoda-1/valid/images/ragweed_138_png.rf.1398ce34df25cc98a930cbc64d6c9422.jpg: 480x640 Done. (0.353s)\n",
            "image 122/124 /content/yolov5/Yoda-1/valid/images/ragweed_140_png.rf.f92cfe36bd7f5a5593655461e2486f15.jpg: 480x640 Done. (0.385s)\n",
            "image 123/124 /content/yolov5/Yoda-1/valid/images/ragweed_141_png.rf.3e71082454e8ada0ffda1222061e936c.jpg: 480x640 Done. (0.352s)\n",
            "image 124/124 /content/yolov5/Yoda-1/valid/images/ragweed_146_png.rf.a369a2b5eacd9743bc61179f3bde1eaf.jpg: 480x640 Done. (0.355s)\n",
            "Speed: 1.8ms pre-process, 410.8ms inference, 0.6ms NMS per image at shape (1, 3, 640, 640)\n",
            "Results saved to \u001b[1mruns/detect/exp4\u001b[0m\n"
          ]
        }
      ]
    },
    {
      "cell_type": "code",
      "source": [
        "import glob\n",
        "from IPython.display import Image, display \n",
        "for imageName in glob.glob(\"runs/detect/exp4/*.jpg\"):\n",
        "  display(Image(filename=imageName))\n",
        "  print(\"\\n\")"
      ],
      "metadata": {
        "id": "COArAJre7oxJ"
      },
      "execution_count": null,
      "outputs": []
    }
  ]
}